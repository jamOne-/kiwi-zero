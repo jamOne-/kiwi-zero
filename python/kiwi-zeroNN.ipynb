{
 "cells": [
  {
   "cell_type": "code",
   "execution_count": 1,
   "metadata": {},
   "outputs": [],
   "source": [
    "import numpy as np\n",
    "import tensorflow as tf\n",
    "import matplotlib.pyplot as plt\n",
    "from tensorflow.keras import layers"
   ]
  },
  {
   "cell_type": "code",
   "execution_count": 5,
   "metadata": {},
   "outputs": [
    {
     "name": "stdout",
     "output_type": "stream",
     "text": [
      "WARNING:tensorflow:From /home/dominik/.local/lib/python3.6/site-packages/tensorflow/python/ops/resource_variable_ops.py:435: colocate_with (from tensorflow.python.framework.ops) is deprecated and will be removed in a future version.\n",
      "Instructions for updating:\n",
      "Colocations handled automatically by placer.\n"
     ]
    }
   ],
   "source": [
    "SIZE = 32\n",
    "\n",
    "def add_ResidualLayer(inputs):\n",
    "    x = layers.Conv2D(\n",
    "        SIZE,\n",
    "        kernel_size=(3, 3),\n",
    "        padding='same',\n",
    "        use_bias=False\n",
    "    )(inputs)\n",
    "    x = layers.BatchNormalization()(x)\n",
    "    x = layers.Activation('relu')(x)\n",
    "\n",
    "    x = layers.Conv2D(\n",
    "        SIZE,\n",
    "        kernel_size=(3, 3),\n",
    "        padding='same',\n",
    "        use_bias=False\n",
    "    )(x)\n",
    "    x = layers.BatchNormalization()(x)\n",
    "\n",
    "    x = layers.add([x, inputs])\n",
    "    x = layers.Activation('relu')(x)\n",
    "    \n",
    "    return x\n",
    "\n",
    "\n",
    "def add_ValueHead(model):\n",
    "    model = layers.Conv2D(\n",
    "        1,\n",
    "        kernel_size=(1, 1),\n",
    "        padding='same',\n",
    "        use_bias=False\n",
    "    )(model)\n",
    "    model = layers.BatchNormalization()(model)\n",
    "    model = layers.Activation('relu')(model)\n",
    "    \n",
    "    model = layers.Dense(SIZE, activation='relu')(model)\n",
    "    model = layers.Dense(1, activation='tanh')(model)\n",
    "    \n",
    "    return model\n",
    "\n",
    "\n",
    "def add_PolicyHead(model):\n",
    "    model = layers.Conv2D(\n",
    "        2,\n",
    "        kernel_size=(1, 1),\n",
    "        padding='same',\n",
    "        use_bias=False\n",
    "    )(model)\n",
    "    model = layers.BatchNormalization()(model)\n",
    "    model = layers.Activation('relu')(model)\n",
    "    model = layers.Dense(8 * 8 + 1)\n",
    "    \n",
    "    return model\n",
    "\n",
    "\n",
    "def get_model():\n",
    "    inputs = layers.Input(shape=(8, 8, 2))\n",
    "    model = layers.Conv2D(\n",
    "        SIZE,\n",
    "        kernel_size=(3, 3),\n",
    "        padding='same',\n",
    "        use_bias=False\n",
    "    )(inputs)\n",
    "    model = layers.BatchNormalization()(model)\n",
    "    model = layers.Activation('relu')(model)\n",
    "    \n",
    "    for _ in range(10):\n",
    "        model = add_ResidualLayer(model)\n",
    "    \n",
    "    value_out = add_ValueHead(model)\n",
    "    policy_out = add_PolicyHead(model)\n",
    "    \n",
    "\n",
    "get_model()"
   ]
  },
  {
   "cell_type": "code",
   "execution_count": null,
   "metadata": {},
   "outputs": [],
   "source": []
  }
 ],
 "metadata": {
  "kernelspec": {
   "display_name": "Python 3",
   "language": "python",
   "name": "python3"
  },
  "language_info": {
   "codemirror_mode": {
    "name": "ipython",
    "version": 3
   },
   "file_extension": ".py",
   "mimetype": "text/x-python",
   "name": "python",
   "nbconvert_exporter": "python",
   "pygments_lexer": "ipython3",
   "version": "3.6.7"
  }
 },
 "nbformat": 4,
 "nbformat_minor": 2
}
