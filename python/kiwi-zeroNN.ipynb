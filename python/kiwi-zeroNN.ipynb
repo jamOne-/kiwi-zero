{
 "cells": [
  {
   "cell_type": "code",
   "execution_count": 1,
   "metadata": {},
   "outputs": [],
   "source": [
    "import numpy as np\n",
    "import tensorflow as tf\n",
    "import matplotlib.pyplot as plt\n",
    "from tensorflow.keras import layers, models, utils"
   ]
  },
  {
   "cell_type": "code",
   "execution_count": 18,
   "metadata": {},
   "outputs": [],
   "source": [
    "SIZE = 32\n",
    "\n",
    "def add_ResidualLayer(inputs):\n",
    "    x = layers.Conv2D(\n",
    "        SIZE,\n",
    "        kernel_size=(3, 3),\n",
    "        padding='same',\n",
    "        use_bias=False\n",
    "    )(inputs)\n",
    "    x = layers.BatchNormalization()(x)\n",
    "    x = layers.Activation('relu')(x)\n",
    "\n",
    "#     x = layers.Conv2D(\n",
    "#         SIZE,\n",
    "#         kernel_size=(3, 3),\n",
    "#         padding='same',\n",
    "#         use_bias=False\n",
    "#     )(x)\n",
    "#     x = layers.BatchNormalization()(x)\n",
    "\n",
    "    x = layers.add([x, inputs])\n",
    "    x = layers.Activation('relu')(x)\n",
    "    \n",
    "    return x\n",
    "\n",
    "\n",
    "def add_ValueHead(model):\n",
    "    model = layers.Conv2D(\n",
    "        1,\n",
    "        kernel_size=(1, 1),\n",
    "        padding='same',\n",
    "        use_bias=False\n",
    "    )(model)\n",
    "    model = layers.BatchNormalization()(model)\n",
    "    model = layers.Activation('relu')(model)\n",
    "    model = layers.Flatten()(model)\n",
    "#     model = layers.Dense(SIZE, activation='relu')(model)\n",
    "    model = layers.Dense(1)(model)\n",
    "    model = layers.Activation('tanh', name='value_out')(model)\n",
    "    \n",
    "    return model\n",
    "\n",
    "\n",
    "def add_PolicyHead(model):\n",
    "    model = layers.Conv2D(\n",
    "        2,\n",
    "        kernel_size=(1, 1),\n",
    "        padding='same',\n",
    "        use_bias=False\n",
    "    )(model)\n",
    "    model = layers.BatchNormalization()(model)\n",
    "    model = layers.Activation('relu')(model)\n",
    "    model = layers.Flatten()(model)\n",
    "    model = layers.Dense(8 * 8 + 1, name='policy_out')(model)\n",
    "    \n",
    "    return model\n",
    "\n",
    "\n",
    "def get_model():\n",
    "    inputs = layers.Input(shape=(8, 8, 2))\n",
    "    model = layers.Conv2D(\n",
    "        SIZE,\n",
    "        kernel_size=(3, 3),\n",
    "        padding='same',\n",
    "        use_bias=False\n",
    "    )(inputs)\n",
    "    model = layers.BatchNormalization()(model)\n",
    "    model = layers.Activation('relu')(model)\n",
    "    \n",
    "    for _ in range(10):\n",
    "        model = add_ResidualLayer(model)\n",
    "    \n",
    "    value_out = add_ValueHead(model)\n",
    "    policy_out = add_PolicyHead(model)\n",
    "    \n",
    "    ret = models.Model(\n",
    "        inputs=inputs,\n",
    "        outputs=[value_out, policy_out],\n",
    "        name='kiwi-zero'\n",
    "    )\n",
    "    \n",
    "    return ret\n",
    "\n",
    "\n",
    "def plot_model(model=None):\n",
    "    if model == None:\n",
    "        model = get_model()\n",
    "    \n",
    "    utils.plot_model(model, show_shapes=True, show_layer_names=True)"
   ]
  },
  {
   "cell_type": "code",
   "execution_count": 23,
   "metadata": {},
   "outputs": [
    {
     "name": "stdout",
     "output_type": "stream",
     "text": [
      "(7132, 8, 8, 2)\n",
      "(7132,)\n",
      "(7132, 65)\n"
     ]
    }
   ],
   "source": [
    "# FILE_NAME = '../2019-09-15 232553.txt'\n",
    "FILE_NAME = '../2019-09-17 232747.txt'\n",
    "X, y_values, y_policy = [], [], []\n",
    "\n",
    "def encode_field(field):\n",
    "    if field == 0:\n",
    "        return [0, 0]\n",
    "    elif field == -1:\n",
    "        return [1, 0]\n",
    "    else:\n",
    "        return [0, 1]\n",
    "\n",
    "with open(FILE_NAME) as file:\n",
    "    for line in file:\n",
    "        line = line.strip()\n",
    "        line_split = line.split(' ')\n",
    "        \n",
    "        turn = int(line_split[-2])\n",
    "        board = [encode_field(int(field) * turn) for field in line_split[:64]]\n",
    "        policy = [float(prob) for prob in line_split[64:128 + 1]]\n",
    "        value = float(line_split[-1]) * turn\n",
    "        \n",
    "        X.append(board)\n",
    "        y_values.append(value)\n",
    "        y_policy.append(policy)\n",
    "        \n",
    "X = np.array(X)\n",
    "y_values = np.array(y_values)\n",
    "y_policy = np.array(y_policy)\n",
    "\n",
    "X = X.reshape(-1, 8, 8, 2)\n",
    "print(X.shape)\n",
    "print(y_values.shape)\n",
    "print(y_policy.shape)"
   ]
  },
  {
   "cell_type": "code",
   "execution_count": 24,
   "metadata": {},
   "outputs": [],
   "source": [
    "from sklearn.model_selection import train_test_split\n",
    "\n",
    "X_train, X_test, y_values_train, y_values_test, y_policy_train, y_policy_test = train_test_split(X, y_values, y_policy, test_size=0.2)"
   ]
  },
  {
   "cell_type": "code",
   "execution_count": 25,
   "metadata": {},
   "outputs": [
    {
     "name": "stdout",
     "output_type": "stream",
     "text": [
      "Train on 4564 samples, validate on 1141 samples\n",
      "Epoch 1/1000\n",
      "4564/4564 [==============================] - 64s 14ms/sample - loss: 1.1455 - value_out_loss: 1.0308 - policy_out_loss: 0.1127 - value_out_mean_absolute_error: 0.9834 - policy_out_mean_absolute_error: 0.2267 - val_loss: 1.0146 - val_value_out_loss: 0.9934 - val_policy_out_loss: 0.0213 - val_value_out_mean_absolute_error: 0.9926 - val_policy_out_mean_absolute_error: 0.1182\n",
      "Epoch 2/1000\n",
      "4564/4564 [==============================] - 62s 14ms/sample - loss: 0.9389 - value_out_loss: 0.9275 - policy_out_loss: 0.0113 - value_out_mean_absolute_error: 0.9374 - policy_out_mean_absolute_error: 0.0820 - val_loss: 1.0153 - val_value_out_loss: 0.9920 - val_policy_out_loss: 0.0232 - val_value_out_mean_absolute_error: 0.9921 - val_policy_out_mean_absolute_error: 0.1229\n",
      "Epoch 3/1000\n",
      "4564/4564 [==============================] - 62s 14ms/sample - loss: 0.8564 - value_out_loss: 0.8475 - policy_out_loss: 0.0085 - value_out_mean_absolute_error: 0.8651 - policy_out_mean_absolute_error: 0.0701 - val_loss: 1.0183 - val_value_out_loss: 0.9922 - val_policy_out_loss: 0.0262 - val_value_out_mean_absolute_error: 0.9921 - val_policy_out_mean_absolute_error: 0.1318\n",
      "Epoch 4/1000\n",
      "4564/4564 [==============================] - 62s 14ms/sample - loss: 0.7415 - value_out_loss: 0.7343 - policy_out_loss: 0.0079 - value_out_mean_absolute_error: 0.7612 - policy_out_mean_absolute_error: 0.0670 - val_loss: 1.0179 - val_value_out_loss: 0.9922 - val_policy_out_loss: 0.0257 - val_value_out_mean_absolute_error: 0.9922 - val_policy_out_mean_absolute_error: 0.1288\n"
     ]
    }
   ],
   "source": [
    "losses = {\n",
    "    \"value_out\": \"mse\",\n",
    "    \"policy_out\": \"mse\",\n",
    "}\n",
    "\n",
    "model = get_model()\n",
    "model.compile(\n",
    "    optimizer=tf.train.AdamOptimizer(0.0003),\n",
    "    loss=losses,\n",
    "    metrics=['mae']\n",
    ")\n",
    "\n",
    "callbacks = [\n",
    "    tf.keras.callbacks.EarlyStopping(\n",
    "        patience=3,\n",
    "        monitor='val_loss'\n",
    "    )\n",
    "]\n",
    "\n",
    "history = model.fit(\n",
    "    X_train,\n",
    "    { 'value_out': y_values_train, 'policy_out': y_policy_train },\n",
    "    epochs=1000,\n",
    "    batch_size=64,\n",
    "    validation_split=0.2,\n",
    "    callbacks=callbacks\n",
    ")"
   ]
  },
  {
   "cell_type": "code",
   "execution_count": 27,
   "metadata": {},
   "outputs": [
    {
     "data": {
      "image/png": "[encoded data removed]",
      "text/plain": [
       "<Figure size 432x288 with 1 Axes>"
      ]
     },
     "metadata": {},
     "output_type": "display_data"
    }
   ],
   "source": [
    "plt.plot(history.history['loss'])\n",
    "plt.plot(history.history['val_loss'])\n",
    "# plt.plot(history.history['policy_out_loss'])\n",
    "# plt.plot(history.history['value_out_loss'])\n",
    "# plt.plot(history.history['val_policy_out_loss'])\n",
    "# plt.plot(history.history['val_value_out_loss'])\n",
    "plt.title('model loss')\n",
    "plt.ylabel('loss')\n",
    "plt.xlabel('epoch')\n",
    "plt.legend(['train', 'validation'], loc='upper left')\n",
    "plt.show()"
   ]
  },
  {
   "cell_type": "code",
   "execution_count": 12,
   "metadata": {},
   "outputs": [],
   "source": [
    "plot_model(model)"
   ]
  },
  {
   "cell_type": "code",
   "execution_count": null,
   "metadata": {},
   "outputs": [],
   "source": []
  }
 ],
 "metadata": {
  "kernelspec": {
   "display_name": "Python 3",
   "language": "python",
   "name": "python3"
  },
  "language_info": {
   "codemirror_mode": {
    "name": "ipython",
    "version": 3
   },
   "file_extension": ".py",
   "mimetype": "text/x-python",
   "name": "python",
   "nbconvert_exporter": "python",
   "pygments_lexer": "ipython3",
   "version": "3.6.7"
  }
 },
 "nbformat": 4,
 "nbformat_minor": 2
}
